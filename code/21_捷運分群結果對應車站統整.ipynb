{
 "cells": [
  {
   "cell_type": "code",
   "execution_count": 18,
   "metadata": {
    "ExecuteTime": {
     "end_time": "2021-01-03T13:16:38.093797Z",
     "start_time": "2021-01-03T13:16:38.087388Z"
    }
   },
   "outputs": [],
   "source": [
    "import csv\n",
    "import pandas as pd\n",
    "import numpy as np"
   ]
  },
  {
   "cell_type": "code",
   "execution_count": 19,
   "metadata": {
    "ExecuteTime": {
     "end_time": "2021-01-03T13:16:38.259655Z",
     "start_time": "2021-01-03T13:16:38.230130Z"
    }
   },
   "outputs": [
    {
     "data": {
      "text/html": [
       "<div>\n",
       "<style scoped>\n",
       "    .dataframe tbody tr th:only-of-type {\n",
       "        vertical-align: middle;\n",
       "    }\n",
       "\n",
       "    .dataframe tbody tr th {\n",
       "        vertical-align: top;\n",
       "    }\n",
       "\n",
       "    .dataframe thead th {\n",
       "        text-align: right;\n",
       "    }\n",
       "</style>\n",
       "<table border=\"1\" class=\"dataframe\">\n",
       "  <thead>\n",
       "    <tr style=\"text-align: right;\">\n",
       "      <th></th>\n",
       "      <th>sno</th>\n",
       "      <th>sna</th>\n",
       "      <th>tot</th>\n",
       "      <th>dis</th>\n",
       "      <th>INDEX</th>\n",
       "      <th>Station</th>\n",
       "      <th>Unnamed: 6</th>\n",
       "    </tr>\n",
       "  </thead>\n",
       "  <tbody>\n",
       "    <tr>\n",
       "      <td>0</td>\n",
       "      <td>1</td>\n",
       "      <td>捷運市政府站(3號出口)</td>\n",
       "      <td>180</td>\n",
       "      <td>271.872140</td>\n",
       "      <td>BL18</td>\n",
       "      <td>市政府</td>\n",
       "      <td>0</td>\n",
       "    </tr>\n",
       "    <tr>\n",
       "      <td>1</td>\n",
       "      <td>2</td>\n",
       "      <td>捷運國父紀念館站(2號出口)</td>\n",
       "      <td>48</td>\n",
       "      <td>39.907193</td>\n",
       "      <td>BL17</td>\n",
       "      <td>國父紀念館</td>\n",
       "      <td>0</td>\n",
       "    </tr>\n",
       "    <tr>\n",
       "      <td>2</td>\n",
       "      <td>3</td>\n",
       "      <td>台北市政府</td>\n",
       "      <td>40</td>\n",
       "      <td>375.193589</td>\n",
       "      <td>BL18</td>\n",
       "      <td>市政府</td>\n",
       "      <td>2</td>\n",
       "    </tr>\n",
       "    <tr>\n",
       "      <td>3</td>\n",
       "      <td>4</td>\n",
       "      <td>市民廣場</td>\n",
       "      <td>60</td>\n",
       "      <td>340.493743</td>\n",
       "      <td>R03</td>\n",
       "      <td>台北101/世貿</td>\n",
       "      <td>0</td>\n",
       "    </tr>\n",
       "    <tr>\n",
       "      <td>4</td>\n",
       "      <td>5</td>\n",
       "      <td>興雅國中</td>\n",
       "      <td>60</td>\n",
       "      <td>425.237340</td>\n",
       "      <td>R02</td>\n",
       "      <td>象山</td>\n",
       "      <td>0</td>\n",
       "    </tr>\n",
       "  </tbody>\n",
       "</table>\n",
       "</div>"
      ],
      "text/plain": [
       "   sno             sna  tot         dis INDEX   Station  Unnamed: 6\n",
       "0    1    捷運市政府站(3號出口)  180  271.872140  BL18       市政府           0\n",
       "1    2  捷運國父紀念館站(2號出口)   48   39.907193  BL17     國父紀念館           0\n",
       "2    3           台北市政府   40  375.193589  BL18       市政府           2\n",
       "3    4            市民廣場   60  340.493743   R03  台北101/世貿           0\n",
       "4    5            興雅國中   60  425.237340   R02        象山           0"
      ]
     },
     "execution_count": 19,
     "metadata": {},
     "output_type": "execute_result"
    }
   ],
   "source": [
    "df = pd.read_csv('class.csv',encoding='big5')\n",
    "df.head()"
   ]
  },
  {
   "cell_type": "code",
   "execution_count": 20,
   "metadata": {
    "ExecuteTime": {
     "end_time": "2021-01-03T13:16:38.366949Z",
     "start_time": "2021-01-03T13:16:38.354540Z"
    }
   },
   "outputs": [
    {
     "data": {
      "text/plain": [
       "[0, 1, 2]"
      ]
     },
     "execution_count": 20,
     "metadata": {},
     "output_type": "execute_result"
    }
   ],
   "source": [
    "list(set(df['Unnamed: 6']))"
   ]
  },
  {
   "cell_type": "code",
   "execution_count": 21,
   "metadata": {
    "ExecuteTime": {
     "end_time": "2021-01-03T13:16:38.835791Z",
     "start_time": "2021-01-03T13:16:38.804689Z"
    }
   },
   "outputs": [],
   "source": [
    "a = []\n",
    "b = []\n",
    "c = []\n",
    "\n",
    "for i in range(len(df['Unnamed: 6'])):\n",
    "    if df['Unnamed: 6'][i] == 0:\n",
    "        a.append(df['sno'][i])\n",
    "    elif df['Unnamed: 6'][i] == 1:\n",
    "        b.append(df['sno'][i])\n",
    "    elif df['Unnamed: 6'][i] == 2:\n",
    "        c.append(df['sno'][i])\n",
    "    else:\n",
    "        print(df['sno'])"
   ]
  },
  {
   "cell_type": "code",
   "execution_count": 22,
   "metadata": {
    "ExecuteTime": {
     "end_time": "2021-01-03T13:16:39.285053Z",
     "start_time": "2021-01-03T13:16:39.266526Z"
    }
   },
   "outputs": [
    {
     "data": {
      "text/plain": [
       "399"
      ]
     },
     "execution_count": 22,
     "metadata": {},
     "output_type": "execute_result"
    }
   ],
   "source": [
    "len(a)+len(b)+len(c)+len(d)+len(e)+len(f)+len(g)"
   ]
  },
  {
   "cell_type": "code",
   "execution_count": 23,
   "metadata": {
    "ExecuteTime": {
     "end_time": "2021-01-03T13:16:39.691628Z",
     "start_time": "2021-01-03T13:16:39.678777Z"
    }
   },
   "outputs": [
    {
     "data": {
      "text/plain": [
       "399"
      ]
     },
     "execution_count": 23,
     "metadata": {},
     "output_type": "execute_result"
    }
   ],
   "source": [
    "len(df['sno'])"
   ]
  },
  {
   "cell_type": "code",
   "execution_count": 24,
   "metadata": {
    "ExecuteTime": {
     "end_time": "2021-01-03T13:16:40.080018Z",
     "start_time": "2021-01-03T13:16:40.071045Z"
    }
   },
   "outputs": [],
   "source": [
    "list_all = []\n",
    "list_all.append(a)\n",
    "list_all.append(b)\n",
    "list_all.append(c)"
   ]
  },
  {
   "cell_type": "code",
   "execution_count": 25,
   "metadata": {
    "ExecuteTime": {
     "end_time": "2021-01-03T13:16:40.794624Z",
     "start_time": "2021-01-03T13:16:40.778049Z"
    }
   },
   "outputs": [
    {
     "data": {
      "text/plain": [
       "[[1,\n",
       "  2,\n",
       "  4,\n",
       "  5,\n",
       "  6,\n",
       "  7,\n",
       "  8,\n",
       "  10,\n",
       "  11,\n",
       "  13,\n",
       "  20,\n",
       "  21,\n",
       "  29,\n",
       "  30,\n",
       "  36,\n",
       "  37,\n",
       "  46,\n",
       "  49,\n",
       "  50,\n",
       "  58,\n",
       "  61,\n",
       "  64,\n",
       "  67,\n",
       "  70,\n",
       "  78,\n",
       "  79,\n",
       "  82,\n",
       "  83,\n",
       "  87,\n",
       "  88,\n",
       "  94,\n",
       "  97,\n",
       "  101,\n",
       "  103,\n",
       "  107,\n",
       "  111,\n",
       "  112,\n",
       "  115,\n",
       "  117,\n",
       "  119,\n",
       "  120,\n",
       "  121,\n",
       "  122,\n",
       "  129,\n",
       "  131,\n",
       "  132,\n",
       "  134,\n",
       "  135,\n",
       "  140,\n",
       "  142,\n",
       "  143,\n",
       "  146,\n",
       "  148,\n",
       "  149,\n",
       "  158,\n",
       "  161,\n",
       "  162,\n",
       "  163,\n",
       "  164,\n",
       "  165,\n",
       "  173,\n",
       "  174,\n",
       "  175,\n",
       "  176,\n",
       "  181,\n",
       "  182,\n",
       "  186,\n",
       "  191,\n",
       "  194,\n",
       "  195,\n",
       "  202,\n",
       "  210,\n",
       "  212,\n",
       "  214,\n",
       "  215,\n",
       "  216,\n",
       "  233,\n",
       "  240,\n",
       "  254,\n",
       "  275,\n",
       "  279,\n",
       "  288,\n",
       "  291,\n",
       "  306,\n",
       "  313,\n",
       "  345,\n",
       "  365,\n",
       "  375],\n",
       " [41,\n",
       "  43,\n",
       "  65,\n",
       "  68,\n",
       "  69,\n",
       "  73,\n",
       "  80,\n",
       "  93,\n",
       "  95,\n",
       "  96,\n",
       "  109,\n",
       "  114,\n",
       "  123,\n",
       "  127,\n",
       "  141,\n",
       "  144,\n",
       "  151,\n",
       "  166,\n",
       "  167,\n",
       "  170,\n",
       "  177,\n",
       "  178,\n",
       "  179,\n",
       "  180,\n",
       "  184,\n",
       "  188,\n",
       "  193,\n",
       "  196,\n",
       "  201,\n",
       "  203,\n",
       "  204,\n",
       "  205,\n",
       "  207,\n",
       "  217,\n",
       "  219,\n",
       "  221,\n",
       "  224,\n",
       "  232,\n",
       "  234,\n",
       "  239,\n",
       "  242,\n",
       "  243,\n",
       "  246,\n",
       "  247,\n",
       "  257,\n",
       "  260,\n",
       "  262,\n",
       "  263,\n",
       "  264,\n",
       "  269,\n",
       "  272,\n",
       "  273,\n",
       "  274,\n",
       "  278,\n",
       "  280,\n",
       "  285,\n",
       "  287,\n",
       "  303,\n",
       "  317,\n",
       "  324,\n",
       "  325,\n",
       "  330,\n",
       "  335,\n",
       "  346,\n",
       "  348,\n",
       "  355,\n",
       "  356,\n",
       "  358,\n",
       "  370,\n",
       "  380,\n",
       "  381,\n",
       "  383,\n",
       "  393,\n",
       "  396,\n",
       "  398,\n",
       "  402],\n",
       " [3,\n",
       "  9,\n",
       "  12,\n",
       "  14,\n",
       "  16,\n",
       "  17,\n",
       "  18,\n",
       "  19,\n",
       "  22,\n",
       "  23,\n",
       "  24,\n",
       "  25,\n",
       "  26,\n",
       "  27,\n",
       "  28,\n",
       "  31,\n",
       "  32,\n",
       "  33,\n",
       "  34,\n",
       "  35,\n",
       "  38,\n",
       "  39,\n",
       "  40,\n",
       "  42,\n",
       "  44,\n",
       "  45,\n",
       "  47,\n",
       "  48,\n",
       "  51,\n",
       "  52,\n",
       "  53,\n",
       "  54,\n",
       "  55,\n",
       "  56,\n",
       "  57,\n",
       "  59,\n",
       "  60,\n",
       "  62,\n",
       "  63,\n",
       "  66,\n",
       "  71,\n",
       "  72,\n",
       "  74,\n",
       "  75,\n",
       "  76,\n",
       "  77,\n",
       "  81,\n",
       "  84,\n",
       "  85,\n",
       "  86,\n",
       "  89,\n",
       "  90,\n",
       "  91,\n",
       "  92,\n",
       "  98,\n",
       "  99,\n",
       "  100,\n",
       "  102,\n",
       "  104,\n",
       "  105,\n",
       "  106,\n",
       "  108,\n",
       "  110,\n",
       "  113,\n",
       "  116,\n",
       "  118,\n",
       "  124,\n",
       "  125,\n",
       "  126,\n",
       "  128,\n",
       "  130,\n",
       "  133,\n",
       "  136,\n",
       "  137,\n",
       "  138,\n",
       "  139,\n",
       "  145,\n",
       "  147,\n",
       "  150,\n",
       "  152,\n",
       "  153,\n",
       "  154,\n",
       "  155,\n",
       "  156,\n",
       "  157,\n",
       "  159,\n",
       "  168,\n",
       "  169,\n",
       "  171,\n",
       "  172,\n",
       "  183,\n",
       "  185,\n",
       "  187,\n",
       "  189,\n",
       "  190,\n",
       "  192,\n",
       "  197,\n",
       "  206,\n",
       "  208,\n",
       "  209,\n",
       "  211,\n",
       "  213,\n",
       "  218,\n",
       "  220,\n",
       "  222,\n",
       "  223,\n",
       "  225,\n",
       "  226,\n",
       "  227,\n",
       "  228,\n",
       "  229,\n",
       "  230,\n",
       "  231,\n",
       "  235,\n",
       "  236,\n",
       "  237,\n",
       "  238,\n",
       "  241,\n",
       "  244,\n",
       "  245,\n",
       "  248,\n",
       "  249,\n",
       "  250,\n",
       "  251,\n",
       "  252,\n",
       "  253,\n",
       "  255,\n",
       "  256,\n",
       "  258,\n",
       "  259,\n",
       "  261,\n",
       "  265,\n",
       "  266,\n",
       "  267,\n",
       "  268,\n",
       "  270,\n",
       "  271,\n",
       "  276,\n",
       "  277,\n",
       "  281,\n",
       "  282,\n",
       "  283,\n",
       "  284,\n",
       "  286,\n",
       "  289,\n",
       "  290,\n",
       "  292,\n",
       "  293,\n",
       "  294,\n",
       "  295,\n",
       "  296,\n",
       "  297,\n",
       "  298,\n",
       "  299,\n",
       "  300,\n",
       "  301,\n",
       "  302,\n",
       "  304,\n",
       "  305,\n",
       "  307,\n",
       "  308,\n",
       "  309,\n",
       "  310,\n",
       "  311,\n",
       "  312,\n",
       "  314,\n",
       "  315,\n",
       "  316,\n",
       "  318,\n",
       "  319,\n",
       "  320,\n",
       "  321,\n",
       "  322,\n",
       "  323,\n",
       "  326,\n",
       "  327,\n",
       "  328,\n",
       "  329,\n",
       "  331,\n",
       "  332,\n",
       "  333,\n",
       "  334,\n",
       "  336,\n",
       "  337,\n",
       "  338,\n",
       "  339,\n",
       "  340,\n",
       "  341,\n",
       "  342,\n",
       "  343,\n",
       "  344,\n",
       "  347,\n",
       "  349,\n",
       "  350,\n",
       "  351,\n",
       "  352,\n",
       "  353,\n",
       "  354,\n",
       "  357,\n",
       "  359,\n",
       "  360,\n",
       "  361,\n",
       "  362,\n",
       "  363,\n",
       "  364,\n",
       "  366,\n",
       "  367,\n",
       "  368,\n",
       "  369,\n",
       "  371,\n",
       "  372,\n",
       "  373,\n",
       "  374,\n",
       "  376,\n",
       "  377,\n",
       "  378,\n",
       "  379,\n",
       "  382,\n",
       "  384,\n",
       "  385,\n",
       "  386,\n",
       "  387,\n",
       "  388,\n",
       "  389,\n",
       "  390,\n",
       "  391,\n",
       "  392,\n",
       "  394,\n",
       "  395,\n",
       "  397,\n",
       "  399,\n",
       "  400,\n",
       "  401,\n",
       "  403,\n",
       "  404]]"
      ]
     },
     "execution_count": 25,
     "metadata": {},
     "output_type": "execute_result"
    }
   ],
   "source": [
    "list_all"
   ]
  },
  {
   "cell_type": "code",
   "execution_count": 26,
   "metadata": {
    "ExecuteTime": {
     "end_time": "2021-01-03T13:16:41.355763Z",
     "start_time": "2021-01-03T13:16:41.347285Z"
    }
   },
   "outputs": [
    {
     "data": {
      "text/plain": [
       "[0, 1, 2]"
      ]
     },
     "execution_count": 26,
     "metadata": {},
     "output_type": "execute_result"
    }
   ],
   "source": [
    "list(set(df['Unnamed: 6']))"
   ]
  },
  {
   "cell_type": "code",
   "execution_count": 27,
   "metadata": {
    "ExecuteTime": {
     "end_time": "2021-01-03T13:16:42.549116Z",
     "start_time": "2021-01-03T13:16:42.538814Z"
    }
   },
   "outputs": [
    {
     "data": {
      "text/plain": [
       "3"
      ]
     },
     "execution_count": 27,
     "metadata": {},
     "output_type": "execute_result"
    }
   ],
   "source": [
    "len(list_all)"
   ]
  },
  {
   "cell_type": "code",
   "execution_count": 28,
   "metadata": {
    "ExecuteTime": {
     "end_time": "2021-01-03T13:16:43.184212Z",
     "start_time": "2021-01-03T13:16:43.159934Z"
    }
   },
   "outputs": [
    {
     "data": {
      "text/html": [
       "<div>\n",
       "<style scoped>\n",
       "    .dataframe tbody tr th:only-of-type {\n",
       "        vertical-align: middle;\n",
       "    }\n",
       "\n",
       "    .dataframe tbody tr th {\n",
       "        vertical-align: top;\n",
       "    }\n",
       "\n",
       "    .dataframe thead th {\n",
       "        text-align: right;\n",
       "    }\n",
       "</style>\n",
       "<table border=\"1\" class=\"dataframe\">\n",
       "  <thead>\n",
       "    <tr style=\"text-align: right;\">\n",
       "      <th></th>\n",
       "      <th>class</th>\n",
       "      <th>sno_no</th>\n",
       "    </tr>\n",
       "  </thead>\n",
       "  <tbody>\n",
       "    <tr>\n",
       "      <td>0</td>\n",
       "      <td>0</td>\n",
       "      <td>[1, 2, 4, 5, 6, 7, 8, 10, 11, 13, 20, 21, 29, ...</td>\n",
       "    </tr>\n",
       "    <tr>\n",
       "      <td>1</td>\n",
       "      <td>1</td>\n",
       "      <td>[41, 43, 65, 68, 69, 73, 80, 93, 95, 96, 109, ...</td>\n",
       "    </tr>\n",
       "    <tr>\n",
       "      <td>2</td>\n",
       "      <td>2</td>\n",
       "      <td>[3, 9, 12, 14, 16, 17, 18, 19, 22, 23, 24, 25,...</td>\n",
       "    </tr>\n",
       "  </tbody>\n",
       "</table>\n",
       "</div>"
      ],
      "text/plain": [
       "   class                                             sno_no\n",
       "0      0  [1, 2, 4, 5, 6, 7, 8, 10, 11, 13, 20, 21, 29, ...\n",
       "1      1  [41, 43, 65, 68, 69, 73, 80, 93, 95, 96, 109, ...\n",
       "2      2  [3, 9, 12, 14, 16, 17, 18, 19, 22, 23, 24, 25,..."
      ]
     },
     "execution_count": 28,
     "metadata": {},
     "output_type": "execute_result"
    }
   ],
   "source": [
    "new = pd.DataFrame({\"class\":list(set(df['Unnamed: 6'])),\n",
    "                    'sno_no':list_all})\n",
    "new"
   ]
  },
  {
   "cell_type": "code",
   "execution_count": 29,
   "metadata": {
    "ExecuteTime": {
     "end_time": "2021-01-03T13:16:57.320672Z",
     "start_time": "2021-01-03T13:16:57.309543Z"
    }
   },
   "outputs": [],
   "source": [
    "new.to_csv('class_detail.csv')"
   ]
  },
  {
   "cell_type": "code",
   "execution_count": 30,
   "metadata": {
    "ExecuteTime": {
     "end_time": "2021-01-03T13:19:13.553850Z",
     "start_time": "2021-01-03T13:19:13.543563Z"
    }
   },
   "outputs": [
    {
     "data": {
      "text/plain": [
       "88"
      ]
     },
     "execution_count": 30,
     "metadata": {},
     "output_type": "execute_result"
    }
   ],
   "source": [
    "len(a)"
   ]
  },
  {
   "cell_type": "code",
   "execution_count": 31,
   "metadata": {
    "ExecuteTime": {
     "end_time": "2021-01-03T13:19:16.195100Z",
     "start_time": "2021-01-03T13:19:16.187456Z"
    }
   },
   "outputs": [
    {
     "data": {
      "text/plain": [
       "76"
      ]
     },
     "execution_count": 31,
     "metadata": {},
     "output_type": "execute_result"
    }
   ],
   "source": [
    "len(b)"
   ]
  },
  {
   "cell_type": "code",
   "execution_count": 32,
   "metadata": {
    "ExecuteTime": {
     "end_time": "2021-01-03T13:19:18.509737Z",
     "start_time": "2021-01-03T13:19:18.500518Z"
    }
   },
   "outputs": [
    {
     "data": {
      "text/plain": [
       "235"
      ]
     },
     "execution_count": 32,
     "metadata": {},
     "output_type": "execute_result"
    }
   ],
   "source": [
    "len(c)"
   ]
  },
  {
   "cell_type": "code",
   "execution_count": null,
   "metadata": {},
   "outputs": [],
   "source": []
  }
 ],
 "metadata": {
  "kernelspec": {
   "display_name": "Python 3",
   "language": "python",
   "name": "python3"
  },
  "language_info": {
   "codemirror_mode": {
    "name": "ipython",
    "version": 3
   },
   "file_extension": ".py",
   "mimetype": "text/x-python",
   "name": "python",
   "nbconvert_exporter": "python",
   "pygments_lexer": "ipython3",
   "version": "3.7.4"
  },
  "toc": {
   "base_numbering": 1,
   "nav_menu": {},
   "number_sections": true,
   "sideBar": true,
   "skip_h1_title": false,
   "title_cell": "Table of Contents",
   "title_sidebar": "Contents",
   "toc_cell": false,
   "toc_position": {},
   "toc_section_display": true,
   "toc_window_display": false
  }
 },
 "nbformat": 4,
 "nbformat_minor": 2
}
